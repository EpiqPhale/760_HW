{
  "metadata": {
    "language_info": {
      "codemirror_mode": {
        "name": "python",
        "version": 3
      },
      "file_extension": ".py",
      "mimetype": "text/x-python",
      "name": "python",
      "nbconvert_exporter": "python",
      "pygments_lexer": "ipython3",
      "version": "3.8"
    },
    "kernelspec": {
      "name": "python",
      "display_name": "Python (Pyodide)",
      "language": "python"
    }
  },
  "nbformat_minor": 4,
  "nbformat": 4,
  "cells": [
    {
      "cell_type": "code",
      "source": "import math\n\ndebug = True\n\n#3.1\n#these are all going to be the same...\nlangPriors = {'e':0,'j':0,'s':0}\na = 0.5\nV = 3\nfor language in ['e', 'j', 's']:\n    numer = math.log(10 + a)\n    denom = math.log(30 + (a * V))\n    langPriors[language] = numer - denom\n\nif debug:\n    for char in ('ejs'):\n        print(char, \": \", math.exp(langPriors[char]))",
      "metadata": {
        "trusted": true
      },
      "execution_count": 1,
      "outputs": [
        {
          "name": "stdout",
          "text": "e :  0.33333333333333337\nj :  0.33333333333333337\ns :  0.33333333333333337\n",
          "output_type": "stream"
        }
      ]
    },
    {
      "cell_type": "code",
      "source": "#3.2, 3.3\n\n#get the char counts\n\n#initialize a 2D hashmap/dict/whatever to store the char counts for each language\ncharCounts = {'e':{},'j':{},'s':{}}\ntotalChars = {'e':0,'j':0,'s':0}\n\n#read in the data and count chars\nfor language in ['e', 'j', 's']: #for ea/ lang\n    for i in range(10): #for the first 10 files\n        with open(f\"languageID/{language}{i}.txt\", 'r') as file: #read in lang concat'd with file num\n            chars = file.read() #read in the contents\n            for char in set(' abcdefghijklmnopqrstuvwxyz'): #for each char in the 27 letter alphabet\n                count = chars.count(char) #count the particular character from the alphabet\n                charCounts[language][char] = charCounts[language].get(char, 0) + count #increment the count by the # of that char in the file\n                totalChars[language] += count #increment the total character count\n                \nif debug:\n    print('Total chars: ', sum(totalChars.values()))\n    print('English chars:')\n    print('Total chars: ', totalChars['e'])\n    for char in sorted(' abcdefghijklmnopqrstuvwxyz'):\n        print(char, charCounts['e'][char])\n    print('Japanese chars:')\n    print('Total chars: ', totalChars['j'])\n    for char in sorted(' abcdefghijklmnopqrstuvwxyz'):\n        print(char, charCounts['j'][char])\n    print('Spanish chars:')\n    print('Total chars: ', totalChars['s'])\n    for char in sorted(' abcdefghijklmnopqrstuvwxyz'):\n        print(char, charCounts['s'][char])",
      "metadata": {
        "trusted": true
      },
      "execution_count": 2,
      "outputs": [
        {
          "name": "stdout",
          "text": "Total chars:  45617\nEnglish chars:\nTotal chars:  15119\n  2712\na 910\nb 168\nc 325\nd 332\ne 1594\nf 286\ng 264\nh 714\ni 838\nj 21\nk 56\nl 438\nm 310\nn 876\no 975\np 253\nq 8\nr 814\ns 1001\nt 1212\nu 403\nv 140\nw 234\nx 17\ny 209\nz 9\nJapanese chars:\nTotal chars:  14296\n  1766\na 1885\nb 155\nc 78\nd 246\ne 861\nf 55\ng 200\nh 454\ni 1388\nj 33\nk 821\nl 20\nm 569\nn 811\no 1304\np 12\nq 1\nr 612\ns 603\nt 815\nu 1010\nv 3\nw 282\nx 0\ny 202\nz 110\nSpanish chars:\nTotal chars:  16202\n  2728\na 1695\nb 133\nc 608\nd 644\ne 1845\nf 139\ng 116\nh 73\ni 808\nj 107\nk 4\nl 858\nm 418\nn 878\no 1175\np 393\nq 124\nr 961\ns 1066\nt 577\nu 546\nv 95\nw 1\nx 40\ny 127\nz 43\n",
          "output_type": "stream"
        }
      ]
    },
    {
      "cell_type": "code",
      "source": "#calculate priors (in log space)\n\na = 0.5\nV = 27\npriors = {'e':{},'j':{},'s':{}}\n\nfor language in ['e', 'j', 's']: #for ea/ lang\n    for char in set(' abcdefghijklmnopqrstuvwxyz'): #for each char in the 27 letter alphabet\n        numer = math.log(charCounts[language][char] + a)\n        denom = math.log(totalChars[language] + (a*V)) #\n        priors[language][char] = numer - denom #sub instead of div in log space\n\nif debug:\n    print('English chars:')\n    for char in sorted(' abcdefghijklmnopqrstuvwxyz'):\n        print(char, math.exp(priors['e'][char]))\n    print('Japanese chars:')\n    for char in sorted(' abcdefghijklmnopqrstuvwxyz'):\n        print(char, math.exp(priors['j'][char]))\n    print('Spanish chars:')\n    for char in sorted(' abcdefghijklmnopqrstuvwxyz'):\n        print(char, math.exp(priors['s'][char]))",
      "metadata": {
        "trusted": true
      },
      "execution_count": 3,
      "outputs": [
        {
          "name": "stdout",
          "text": "English chars:\n  0.1792499586981663\na 0.060168511481909825\nb 0.011134974392863043\nc 0.021509995043779956\nd 0.02197257558235586\ne 0.10536923839418473\nf 0.018932760614571296\ng 0.017478936064761277\nh 0.04721625640178424\ni 0.055410540227986145\nj 0.0014207830827688743\nk 0.00373368577564844\nl 0.028977366595076822\nm 0.020518751032545846\nn 0.057921691723112505\no 0.06446390219725755\np 0.016752023789856275\nq 0.0005617049396993228\nr 0.05382454981001157\ns 0.06618205848339667\nt 0.08012555757475635\nu 0.026664463902197268\nv 0.009284652238559397\nw 0.015496448042293076\nx 0.0011564513464397824\ny 0.013844374690236244\nz 0.0006277878737815959\nJapanese chars:\n  0.12344945665467004\na 0.131765610258919\nb 0.010866906600510153\nc 0.005485866033054968\nd 0.01722631818022992\ne 0.06020475907613825\nf 0.0038785422271917264\ng 0.01401167056850345\nh 0.03176211607673225\ni 0.09703343932352636\nj 0.0023411020650616747\nk 0.05740941332681086\nl 0.001432614696530278\nm 0.039798735106048436\nn 0.05671057688947903\no 0.09116321324993891\np 0.0008735455466648037\nq 0.00010482546559977636\nr 0.04280373178657535\ns 0.04217477899297672\nt 0.05699011146441176\nu 0.07061742199238273\nv 0.000244592753066145\nw 0.019742129354624566\nx 3.494182186659214e-05\ny 0.014151437855969822\nz 0.0077221426325168666\nSpanish chars:\n  0.1682649317011502\na 0.10456045141993778\nb 0.008232863618143139\nc 0.03752582405722923\nd 0.039745922111559924\ne 0.11381085997964913\nf 0.00860287996053159\ng 0.00718448398137585\nh 0.00453270019425858\ni 0.04985970213684439\nj 0.006629459467793161\nk 0.0002775122567913419\nl 0.05294317165674821\nm 0.02580863988159478\nn 0.054176559464709693\no 0.0724923684129383\np 0.024266905121642878\nq 0.007677839104560452\nr 0.05929511886775002\ns 0.06577040485954799\nt 0.035614072954888845\nu 0.03370232185254851\nv 0.005889426783016252\nw 9.250408559711385e-05\nx 0.0024976103111220742\ny 0.007862847275754686\nz 0.002682618482316303\n",
          "output_type": "stream"
        }
      ]
    },
    {
      "cell_type": "code",
      "source": "#3.4\n\nbagOWords = {}\nbOWTotalCount = 0\n\nwith open(f\"languageID/e10.txt\", 'r') as file: #read in file\n    chars = file.read() #read in the contents\n    for char in set(' abcdefghijklmnopqrstuvwxyz'): #for each char in the 27 letter alphabet\n        count = chars.count(char) #count the particular character from the alphabet\n        bagOWords[char] = bagOWords.get(char, 0) + count #increment the count by the # of that char in the file\n        #totalChars[language] += count #increment the total character count\n        bOWTotalCount += count\n        \nif debug:\n    print('Total chars: ', bOWTotalCount)\n    for char in sorted(' abcdefghijklmnopqrstuvwxyz'):\n        print(char, bagOWords[char])",
      "metadata": {
        "trusted": true
      },
      "execution_count": 4,
      "outputs": [
        {
          "name": "stdout",
          "text": "Total chars:  2775\n  498\na 164\nb 32\nc 53\nd 57\ne 311\nf 55\ng 51\nh 140\ni 140\nj 3\nk 6\nl 85\nm 64\nn 139\no 182\np 53\nq 3\nr 141\ns 186\nt 225\nu 65\nv 31\nw 47\nx 4\ny 38\nz 2\n",
          "output_type": "stream"
        }
      ]
    },
    {
      "cell_type": "code",
      "source": "#3.5\n\n#we have the chars from the last step for e10\n\nlogProbs = {'e':0,'j':0,'s':0}\n\nfor language in ['e', 'j', 's']:\n    for char in set(' abcdefghijklmnopqrstuvwxyz'):\n        logProbs[language] += bagOWords[char] * priors[language][char]\n        \nprint(logProbs['e'])\nprint(logProbs['j'])\nprint(logProbs['s'])",
      "metadata": {
        "trusted": true
      },
      "execution_count": 5,
      "outputs": [
        {
          "name": "stdout",
          "text": "-7841.865447060635\n-8771.433079075028\n-8467.282044010557\n",
          "output_type": "stream"
        }
      ]
    },
    {
      "cell_type": "code",
      "source": "#3.6\n\nposteriors = {'e':{},'j':{},'s':{}}\n\n#the log-sum-exp trick\nm = max(logProbs['e'] + langPriors['e'], logProbs['j'] + langPriors['j'], logProbs['s'] + langPriors['s'])\nevidence = m + math.log(math.exp(logProbs['e'] + langPriors['e'] - m) + math.exp(logProbs['j'] + langPriors['j'] - m) + math.exp(logProbs['s'] + langPriors['s'] - m))\n\nlogPosteriors = {'e':0,'j':0,'s':0}\nlogPosteriors['e'] = logProbs['e'] + langPriors['e'] - evidence\nlogPosteriors['j'] = logProbs['j'] + langPriors['j'] - evidence\nlogPosteriors['s'] = logProbs['s'] + langPriors['s'] - evidence\n\nposteriors = {'e':0,'j':0,'s':0}\nposteriors['e'] = math.exp(logPosteriors['e'])\nposteriors['j'] = math.exp(logPosteriors['j'])\nposteriors['s'] = math.exp(logPosteriors['s'])\n\nprint(posteriors)",
      "metadata": {
        "trusted": true
      },
      "execution_count": 6,
      "outputs": [
        {
          "name": "stdout",
          "text": "{'e': 1.0, 'j': 0.0, 's': 2.4267389118368303e-272}\n",
          "output_type": "stream"
        }
      ]
    },
    {
      "cell_type": "code",
      "source": "#3.7\n\nconfusionMatrix = {'e':{'e':0,'j':0,'s':0},'j':{'e':0,'j':0,'s':0},'s':{'e':0,'j':0,'s':0}}\n\nfor language in ['e', 'j', 's']: #for ea/ lang\n    for i in range(10,20): #for the second 10 files\n        with open(f\"languageID/{language}{i}.txt\", 'r') as file: #read in lang concat'd with file num\n            bagOWords = {}\n            bOWTotalCount = 0\n            chars = file.read() #read in the contents\n            for char in set(' abcdefghijklmnopqrstuvwxyz'): #for each char in the 27 letter alphabet\n                count = chars.count(char) #count the particular character from the alphabet\n                bagOWords[char] = bagOWords.get(char, 0) + count #increment the count by the # of that char in the file\n                #totalChars[language] += count #increment the total character count\n                bOWTotalCount += count\n            logProbs = {'e':0,'j':0,'s':0}\n\n            for langP in ['e', 'j', 's']:\n                for char in set(' abcdefghijklmnopqrstuvwxyz'):\n                    logProbs[langP] += bagOWords.get(char, 0) * priors[langP][char]\n\n            #the log-sum-exp trick\n            m = max(logProbs['e'] + langPriors['e'], logProbs['j'] + langPriors['j'], logProbs['s'] + langPriors['s'])\n            evidence = m + math.log(math.exp(logProbs['e'] + langPriors['e'] - m) + math.exp(logProbs['j'] + langPriors['j'] - m) + math.exp(logProbs['s'] + langPriors['s'] - m))\n\n            logPosteriors = {'e':0,'j':0,'s':0}\n            logPosteriors['e'] = logProbs['e'] + langPriors['e'] - evidence\n            logPosteriors['j'] = logProbs['j'] + langPriors['j'] - evidence\n            logPosteriors['s'] = logProbs['s'] + langPriors['s'] - evidence\n\n            posteriors = {'e':0,'j':0,'s':0}\n            posteriors['e'] = math.exp(logPosteriors['e'])\n            posteriors['j'] = math.exp(logPosteriors['j'])\n            posteriors['s'] = math.exp(logPosteriors['s'])\n\n            prediction = max(posteriors, key=posteriors.get)\n            #print(prediction)\n            confusionMatrix[language][prediction] += 1\n                \nprint(confusionMatrix)",
      "metadata": {
        "trusted": true
      },
      "execution_count": 10,
      "outputs": [
        {
          "name": "stdout",
          "text": "{'e': {'e': 10, 'j': 0, 's': 0}, 'j': {'e': 0, 'j': 10, 's': 0}, 's': {'e': 0, 'j': 0, 's': 10}}\n",
          "output_type": "stream"
        }
      ]
    },
    {
      "cell_type": "code",
      "source": "",
      "metadata": {},
      "execution_count": null,
      "outputs": []
    },
    {
      "cell_type": "code",
      "source": "",
      "metadata": {},
      "execution_count": null,
      "outputs": []
    }
  ]
}